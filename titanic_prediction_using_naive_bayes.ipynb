{
  "metadata": {
    "kernelspec": {
      "language": "python",
      "display_name": "Python 3",
      "name": "python3"
    },
    "language_info": {
      "name": "python",
      "version": "3.10.12",
      "mimetype": "text/x-python",
      "codemirror_mode": {
        "name": "ipython",
        "version": 3
      },
      "pygments_lexer": "ipython3",
      "nbconvert_exporter": "python",
      "file_extension": ".py"
    },
    "colab": {
      "provenance": [],
      "include_colab_link": true
    }
  },
  "nbformat_minor": 0,
  "nbformat": 4,
  "cells": [
    {
      "cell_type": "markdown",
      "metadata": {
        "id": "view-in-github",
        "colab_type": "text"
      },
      "source": [
        "<a href=\"https://colab.research.google.com/github/Samia35-2973/Machine-Learning-Notes/blob/main/titanic_prediction_using_naive_bayes.ipynb\" target=\"_parent\"><img src=\"https://colab.research.google.com/assets/colab-badge.svg\" alt=\"Open In Colab\"/></a>"
      ]
    },
    {
      "cell_type": "markdown",
      "source": [
        "# Introduction\n",
        "We are going to find the probability of survival of titanic based on some features such as if the person was male, class, age, cabin fare so on.\n",
        "\n",
        "The Reason we are taking naive bayes because we are making an assumption that the male, class, age, cabin and fare, etc are independent to each other. In reality it can some features can be dependent to each other such as fare and cabin. But here we assume for simplicity purpose."
      ],
      "metadata": {
        "id": "NuapXJsiju78"
      }
    },
    {
      "cell_type": "code",
      "source": [
        "# Importing necessary libraries\n",
        "import pandas as pd\n",
        "import numpy as np\n",
        "from sklearn.compose import ColumnTransformer\n",
        "from sklearn.preprocessing import LabelEncoder\n",
        "from sklearn.preprocessing import OneHotEncoder\n",
        "from sklearn.naive_bayes import GaussianNB\n",
        "import math"
      ],
      "metadata": {
        "execution": {
          "iopub.status.busy": "2023-08-23T17:53:21.975808Z",
          "iopub.execute_input": "2023-08-23T17:53:21.976284Z",
          "iopub.status.idle": "2023-08-23T17:53:21.983376Z",
          "shell.execute_reply.started": "2023-08-23T17:53:21.976254Z",
          "shell.execute_reply": "2023-08-23T17:53:21.981972Z"
        },
        "trusted": true,
        "id": "jQFpCL5Uju7_"
      },
      "execution_count": null,
      "outputs": []
    },
    {
      "cell_type": "code",
      "source": [
        "# Reading the train csv file\n",
        "d = pd.read_csv(\"/kaggle/input/titanic/train.csv\")\n",
        "d.head()"
      ],
      "metadata": {
        "execution": {
          "iopub.status.busy": "2023-08-23T17:53:21.985265Z",
          "iopub.execute_input": "2023-08-23T17:53:21.985650Z",
          "iopub.status.idle": "2023-08-23T17:53:22.028174Z",
          "shell.execute_reply.started": "2023-08-23T17:53:21.985593Z",
          "shell.execute_reply": "2023-08-23T17:53:22.026665Z"
        },
        "trusted": true,
        "id": "5guspowBju8A"
      },
      "execution_count": null,
      "outputs": []
    },
    {
      "cell_type": "markdown",
      "source": [
        "# Data Exploration\n",
        "Some features are not necessary in our data frame. Hence we will drop the columns"
      ],
      "metadata": {
        "id": "32BWU3eeju8A"
      }
    },
    {
      "cell_type": "code",
      "source": [
        "d.drop(['PassengerId','Name','SibSp','Parch','Ticket','Cabin','Embarked'],axis='columns',inplace=True)\n",
        "d.head()"
      ],
      "metadata": {
        "execution": {
          "iopub.status.busy": "2023-08-23T17:53:22.030660Z",
          "iopub.execute_input": "2023-08-23T17:53:22.031256Z",
          "iopub.status.idle": "2023-08-23T17:53:22.046647Z",
          "shell.execute_reply.started": "2023-08-23T17:53:22.031214Z",
          "shell.execute_reply": "2023-08-23T17:53:22.045764Z"
        },
        "trusted": true,
        "id": "9UVYRUwvju8A"
      },
      "execution_count": null,
      "outputs": []
    },
    {
      "cell_type": "markdown",
      "source": [
        "# Data Preprocessing\n",
        "## Check Nan Values\n",
        "We can check for every column nan value presence by col_name.isna().any()"
      ],
      "metadata": {
        "id": "U7pJy_Mnju8A"
      }
    },
    {
      "cell_type": "code",
      "source": [
        "d['Age'].isna().any()"
      ],
      "metadata": {
        "execution": {
          "iopub.status.busy": "2023-08-23T17:53:22.047858Z",
          "iopub.execute_input": "2023-08-23T17:53:22.048487Z",
          "iopub.status.idle": "2023-08-23T17:53:22.064947Z",
          "shell.execute_reply.started": "2023-08-23T17:53:22.048449Z",
          "shell.execute_reply": "2023-08-23T17:53:22.063407Z"
        },
        "trusted": true,
        "id": "tXzFeeHCju8B"
      },
      "execution_count": null,
      "outputs": []
    },
    {
      "cell_type": "markdown",
      "source": [
        "## Replace Nan values with the column's mean value\n",
        "For every nan value on that column will be replaced with the whole column's mean value.\n",
        "col = col.fillna(math.floor(col.mean()))"
      ],
      "metadata": {
        "id": "HqQLyE32ju8C"
      }
    },
    {
      "cell_type": "code",
      "source": [
        "d['Age'] = d['Age'].fillna(math.floor(d['Age'].mean()))\n",
        "d"
      ],
      "metadata": {
        "execution": {
          "iopub.status.busy": "2023-08-23T17:53:22.068833Z",
          "iopub.execute_input": "2023-08-23T17:53:22.069297Z",
          "iopub.status.idle": "2023-08-23T17:53:22.092001Z",
          "shell.execute_reply.started": "2023-08-23T17:53:22.069263Z",
          "shell.execute_reply": "2023-08-23T17:53:22.090556Z"
        },
        "trusted": true,
        "id": "MzUi3YW1ju8C"
      },
      "execution_count": null,
      "outputs": []
    },
    {
      "cell_type": "markdown",
      "source": [
        "# Extracting target variable"
      ],
      "metadata": {
        "id": "VLq0Cy4Tju8C"
      }
    },
    {
      "cell_type": "code",
      "source": [
        "x_train = d[['Pclass', 'Sex', 'Age', 'Fare']]\n",
        "y_train = d[['Survived']].values"
      ],
      "metadata": {
        "execution": {
          "iopub.status.busy": "2023-08-23T17:53:22.093904Z",
          "iopub.execute_input": "2023-08-23T17:53:22.094464Z",
          "iopub.status.idle": "2023-08-23T17:53:22.104161Z",
          "shell.execute_reply.started": "2023-08-23T17:53:22.094422Z",
          "shell.execute_reply": "2023-08-23T17:53:22.103182Z"
        },
        "trusted": true,
        "id": "XlerO4hmju8C"
      },
      "execution_count": null,
      "outputs": []
    },
    {
      "cell_type": "markdown",
      "source": [
        "## Encode the necessary columns: Apply dummy method, one hot encoding, label encoding etc\n",
        "### Dummy Method\n",
        "By panda's get_dummies() method we can get individual columns of each value of that column. Here 'Sex' column has some categorical value. We can add these dummy columns with the original dataframe and drop one of the column to avoid Dummy Variable Trap"
      ],
      "metadata": {
        "id": "8w_rw9HSju8C"
      }
    },
    {
      "cell_type": "code",
      "source": [
        "dummies = pd.get_dummies(x_train.Sex)\n",
        "dummies.head(3)"
      ],
      "metadata": {
        "execution": {
          "iopub.status.busy": "2023-08-23T17:53:22.105334Z",
          "iopub.execute_input": "2023-08-23T17:53:22.106403Z",
          "iopub.status.idle": "2023-08-23T17:53:22.125269Z",
          "shell.execute_reply.started": "2023-08-23T17:53:22.106356Z",
          "shell.execute_reply": "2023-08-23T17:53:22.123592Z"
        },
        "trusted": true,
        "id": "wtRPmKXvju8D"
      },
      "execution_count": null,
      "outputs": []
    },
    {
      "cell_type": "code",
      "source": [
        "x_train = pd.concat([x_train,dummies],axis='columns')\n",
        "x_train.head(3)"
      ],
      "metadata": {
        "execution": {
          "iopub.status.busy": "2023-08-23T17:53:22.127093Z",
          "iopub.execute_input": "2023-08-23T17:53:22.127489Z",
          "iopub.status.idle": "2023-08-23T17:53:22.145093Z",
          "shell.execute_reply.started": "2023-08-23T17:53:22.127457Z",
          "shell.execute_reply": "2023-08-23T17:53:22.143552Z"
        },
        "trusted": true,
        "id": "ZEp5SAtTju8D"
      },
      "execution_count": null,
      "outputs": []
    },
    {
      "cell_type": "code",
      "source": [
        "x_train.drop(['Sex','male'],axis='columns',inplace=True)\n",
        "x_train.head(3)"
      ],
      "metadata": {
        "execution": {
          "iopub.status.busy": "2023-08-23T17:53:22.147833Z",
          "iopub.execute_input": "2023-08-23T17:53:22.149146Z",
          "iopub.status.idle": "2023-08-23T17:53:22.169854Z",
          "shell.execute_reply.started": "2023-08-23T17:53:22.149095Z",
          "shell.execute_reply": "2023-08-23T17:53:22.168425Z"
        },
        "trusted": true,
        "id": "4PWnwHZrju8D"
      },
      "execution_count": null,
      "outputs": []
    },
    {
      "cell_type": "markdown",
      "source": [
        "### One Hot Encoding Method\n",
        "here pclass has categorical value. So we will use one hot encoding technique."
      ],
      "metadata": {
        "id": "qG1VzD7Hju8D"
      }
    },
    {
      "cell_type": "code",
      "source": [
        "ohe = OneHotEncoder()\n",
        "ct = ColumnTransformer([('Pclass', ohe, [0])], remainder='passthrough')"
      ],
      "metadata": {
        "execution": {
          "iopub.status.busy": "2023-08-23T17:53:22.172199Z",
          "iopub.execute_input": "2023-08-23T17:53:22.172845Z",
          "iopub.status.idle": "2023-08-23T17:53:22.188832Z",
          "shell.execute_reply.started": "2023-08-23T17:53:22.172785Z",
          "shell.execute_reply": "2023-08-23T17:53:22.187088Z"
        },
        "trusted": true,
        "id": "Q_ROcImfju8D"
      },
      "execution_count": null,
      "outputs": []
    },
    {
      "cell_type": "code",
      "source": [
        "x_train = ct.fit_transform(x_train)\n",
        "# Dropping\n",
        "x_train = x_train[:,1:]\n",
        "x_train"
      ],
      "metadata": {
        "execution": {
          "iopub.status.busy": "2023-08-23T17:53:22.195201Z",
          "iopub.execute_input": "2023-08-23T17:53:22.195764Z",
          "iopub.status.idle": "2023-08-23T17:53:22.214677Z",
          "shell.execute_reply.started": "2023-08-23T17:53:22.195719Z",
          "shell.execute_reply": "2023-08-23T17:53:22.213406Z"
        },
        "trusted": true,
        "id": "ksW_4aMjju8D"
      },
      "execution_count": null,
      "outputs": []
    },
    {
      "cell_type": "markdown",
      "source": [
        "# Training model\n",
        "We will use Gaussian Naive Bayes Model because the distribution is Gaussian or not normal."
      ],
      "metadata": {
        "id": "2cmTu_MNju8D"
      }
    },
    {
      "cell_type": "code",
      "source": [
        "model = GaussianNB()\n",
        "model"
      ],
      "metadata": {
        "execution": {
          "iopub.status.busy": "2023-08-23T17:53:22.216568Z",
          "iopub.execute_input": "2023-08-23T17:53:22.217157Z",
          "iopub.status.idle": "2023-08-23T17:53:22.228381Z",
          "shell.execute_reply.started": "2023-08-23T17:53:22.217119Z",
          "shell.execute_reply": "2023-08-23T17:53:22.226674Z"
        },
        "trusted": true,
        "id": "IRhwF5mkju8D"
      },
      "execution_count": null,
      "outputs": []
    },
    {
      "cell_type": "code",
      "source": [
        "model.fit(x_train, y_train)"
      ],
      "metadata": {
        "execution": {
          "iopub.status.busy": "2023-08-23T17:53:22.230398Z",
          "iopub.execute_input": "2023-08-23T17:53:22.230888Z",
          "iopub.status.idle": "2023-08-23T17:53:22.248939Z",
          "shell.execute_reply.started": "2023-08-23T17:53:22.230851Z",
          "shell.execute_reply": "2023-08-23T17:53:22.247539Z"
        },
        "trusted": true,
        "id": "aftN282Dju8D"
      },
      "execution_count": null,
      "outputs": []
    },
    {
      "cell_type": "markdown",
      "source": [
        "# Preprocess Test Data"
      ],
      "metadata": {
        "id": "T3CjYuWrju8D"
      }
    },
    {
      "cell_type": "code",
      "source": [
        "test_df = pd.read_csv('/kaggle/input/titanic/test.csv')"
      ],
      "metadata": {
        "execution": {
          "iopub.status.busy": "2023-08-23T17:53:22.250580Z",
          "iopub.execute_input": "2023-08-23T17:53:22.251086Z",
          "iopub.status.idle": "2023-08-23T17:53:22.265815Z",
          "shell.execute_reply.started": "2023-08-23T17:53:22.251039Z",
          "shell.execute_reply": "2023-08-23T17:53:22.264538Z"
        },
        "trusted": true,
        "id": "E5fr0eAEju8D"
      },
      "execution_count": null,
      "outputs": []
    },
    {
      "cell_type": "code",
      "source": [
        "test_df['Age'].isna().any()"
      ],
      "metadata": {
        "execution": {
          "iopub.status.busy": "2023-08-23T17:53:22.267893Z",
          "iopub.execute_input": "2023-08-23T17:53:22.268390Z",
          "iopub.status.idle": "2023-08-23T17:53:22.279892Z",
          "shell.execute_reply.started": "2023-08-23T17:53:22.268347Z",
          "shell.execute_reply": "2023-08-23T17:53:22.277920Z"
        },
        "trusted": true,
        "id": "WHConeLVju8E"
      },
      "execution_count": null,
      "outputs": []
    },
    {
      "cell_type": "code",
      "source": [
        "test_df['Fare'].isna().any()"
      ],
      "metadata": {
        "execution": {
          "iopub.status.busy": "2023-08-23T17:53:22.281836Z",
          "iopub.execute_input": "2023-08-23T17:53:22.282410Z",
          "iopub.status.idle": "2023-08-23T17:53:22.296329Z",
          "shell.execute_reply.started": "2023-08-23T17:53:22.282374Z",
          "shell.execute_reply": "2023-08-23T17:53:22.294499Z"
        },
        "trusted": true,
        "id": "Iv9Q9PNTju8E"
      },
      "execution_count": null,
      "outputs": []
    },
    {
      "cell_type": "code",
      "source": [
        "test_df['Age'] = test_df['Age'].fillna(math.floor(test_df['Age'].mean()))\n",
        "test_df['Fare'] = test_df['Fare'].fillna(math.floor(test_df['Fare'].mean()))"
      ],
      "metadata": {
        "execution": {
          "iopub.status.busy": "2023-08-23T17:53:22.298103Z",
          "iopub.execute_input": "2023-08-23T17:53:22.298512Z",
          "iopub.status.idle": "2023-08-23T17:53:22.314989Z",
          "shell.execute_reply.started": "2023-08-23T17:53:22.298481Z",
          "shell.execute_reply": "2023-08-23T17:53:22.313254Z"
        },
        "trusted": true,
        "id": "_l4tjaJoju8E"
      },
      "execution_count": null,
      "outputs": []
    },
    {
      "cell_type": "code",
      "source": [
        "x_test = test_df[['Pclass', 'Sex', 'Age', 'Fare']]\n",
        "dummies = pd.get_dummies(x_test.Sex)\n",
        "x_test = pd.concat([x_test,dummies],axis='columns')\n",
        "x_test.drop(['Sex','male'],axis='columns',inplace=True)\n",
        "x_test = ct.fit_transform(x_test)\n",
        "x_test = x_test[:, 1:]"
      ],
      "metadata": {
        "execution": {
          "iopub.status.busy": "2023-08-23T17:53:22.316860Z",
          "iopub.execute_input": "2023-08-23T17:53:22.317312Z",
          "iopub.status.idle": "2023-08-23T17:53:22.342575Z",
          "shell.execute_reply.started": "2023-08-23T17:53:22.317277Z",
          "shell.execute_reply": "2023-08-23T17:53:22.340802Z"
        },
        "trusted": true,
        "id": "HQFr_uevju8E"
      },
      "execution_count": null,
      "outputs": []
    },
    {
      "cell_type": "markdown",
      "source": [
        "# Model will predict on the input"
      ],
      "metadata": {
        "id": "3HuJ0b9wju8E"
      }
    },
    {
      "cell_type": "markdown",
      "source": [
        "We will save the predicted answers"
      ],
      "metadata": {
        "id": "Mb2uD63Gju8E"
      }
    },
    {
      "cell_type": "code",
      "source": [
        "y_predicted = model.predict(x_test)"
      ],
      "metadata": {
        "execution": {
          "iopub.status.busy": "2023-08-23T17:53:22.343793Z",
          "iopub.execute_input": "2023-08-23T17:53:22.344151Z",
          "iopub.status.idle": "2023-08-23T17:53:22.352233Z",
          "shell.execute_reply.started": "2023-08-23T17:53:22.344121Z",
          "shell.execute_reply": "2023-08-23T17:53:22.350798Z"
        },
        "trusted": true,
        "id": "azzbiWRvju8E"
      },
      "execution_count": null,
      "outputs": []
    },
    {
      "cell_type": "markdown",
      "source": [
        "Creating a new dataframe with the survival prediction and passenger ID. Then saving it on the CSV File."
      ],
      "metadata": {
        "id": "2kMO5H9bju8E"
      }
    },
    {
      "cell_type": "code",
      "source": [
        "predicted_df = pd.DataFrame(test_df['PassengerId'], columns=['PassengerId'])\n",
        "predicted_df['Survived'] = y_predicted\n",
        "predicted_df.to_csv('/kaggle/working/submission.csv', index=False)"
      ],
      "metadata": {
        "execution": {
          "iopub.status.busy": "2023-08-23T17:53:22.354083Z",
          "iopub.execute_input": "2023-08-23T17:53:22.355206Z",
          "iopub.status.idle": "2023-08-23T17:53:22.375295Z",
          "shell.execute_reply.started": "2023-08-23T17:53:22.355164Z",
          "shell.execute_reply": "2023-08-23T17:53:22.373956Z"
        },
        "trusted": true,
        "id": "4XmDKg7Xju8E"
      },
      "execution_count": null,
      "outputs": []
    },
    {
      "cell_type": "markdown",
      "source": [
        "# Conclusion\n",
        "**Credit**: Code Basics\n",
        "\n",
        "\n",
        "*Thank you for the patience. Ignore my grammatical mistakes. And let me know if I have understand anything wrong. This is for my own learning purpose. *"
      ],
      "metadata": {
        "id": "MB8PZr0bju8E"
      }
    }
  ]
}